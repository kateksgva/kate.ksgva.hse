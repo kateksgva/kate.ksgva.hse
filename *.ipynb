{
  "nbformat": 4,
  "nbformat_minor": 0,
  "metadata": {
    "colab": {
      "provenance": [],
      "authorship_tag": "ABX9TyN9nqo/7oqC0P3+VPSOp0uL",
      "include_colab_link": true
    },
    "kernelspec": {
      "name": "python3",
      "display_name": "Python 3"
    },
    "language_info": {
      "name": "python"
    }
  },
  "cells": [
    {
      "cell_type": "markdown",
      "metadata": {
        "id": "view-in-github",
        "colab_type": "text"
      },
      "source": [
        "<a href=\"https://colab.research.google.com/github/kateksgva/kate.ksgva.hse/blob/main/*.ipynb\" target=\"_parent\"><img src=\"https://colab.research.google.com/assets/colab-badge.svg\" alt=\"Open In Colab\"/></a>"
      ]
    },
    {
      "cell_type": "code",
      "execution_count": null,
      "metadata": {
        "id": "HDAZblYM5RvB"
      },
      "outputs": [],
      "source": [
        "1. Пара языков: русский - итальянский.\n",
        "\n",
        "2. Пре-процессинг: токенизация - библиотека NLTK для русского языка, библиотека Stanza для итальянского языка; нормализация - NLTK, spaCy;\n",
        "лемматизация - для русского языка - pymorphy2, для итальянского языка - spaCy.\n",
        "\n",
        "Правило №1: прямой перевод существительного - указать род, число, падеж для русского языка, род, число - для итальянского (падежи отсутствуют)\n",
        "Правило №2: прямой перевод прилагательного - указать род, число, падеж для русского языка, род, число - для итальянского (падежи отсутствуют)\n",
        "Правило №3: позиция прилагательного относительно существительного - в русском языке чаще прил. + сущ., в итальянском языке чаще сущ.+прил."
      ]
    }
  ]
}